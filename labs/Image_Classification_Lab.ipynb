{
  "nbformat": 4,
  "nbformat_minor": 0,
  "metadata": {
    "colab": {
      "provenance": [],
      "authorship_tag": "ABX9TyO3mBsaUhUbqPNokZnfxRvS"
    },
    "kernelspec": {
      "name": "python3",
      "display_name": "Python 3"
    },
    "language_info": {
      "name": "python"
    },
    "accelerator": "GPU",
    "gpuClass": "premium"
  },
  "cells": [
    {
      "cell_type": "markdown",
      "source": [
        "#Image Classification Lab\n",
        "\n",
        "###For this lab I will be using the CIFAR-10 dataset to classify 10000 test images in one of the following categories: airplane, automobile, bird, cat, deer, dog, frog, horse, ship, and truck. The dataset contians 50000 2x32 colour images for training."
      ],
      "metadata": {
        "id": "4rlHfyKQ1D0t"
      }
    },
    {
      "cell_type": "code",
      "source": [
        "import keras\n",
        "import tensorflow as tf\n",
        "#Load dataset\n",
        "cifar10 = tf.keras.datasets.cifar10\n",
        "(train_images, train_labels), (test_images, test_labels) = cifar10.load_data()\n",
        "print(train_images.shape, train_labels.shape, test_images.shape, test_labels.shape)"
      ],
      "metadata": {
        "colab": {
          "base_uri": "https://localhost:8080/"
        },
        "id": "oZg064D91GTg",
        "outputId": "28810e4a-1607-4a7d-f074-b6ca836885e5"
      },
      "execution_count": 1,
      "outputs": [
        {
          "output_type": "stream",
          "name": "stdout",
          "text": [
            "Downloading data from https://www.cs.toronto.edu/~kriz/cifar-10-python.tar.gz\n",
            "170498071/170498071 [==============================] - 3s 0us/step\n",
            "(50000, 32, 32, 3) (50000, 1) (10000, 32, 32, 3) (10000, 1)\n"
          ]
        }
      ]
    },
    {
      "cell_type": "code",
      "source": [
        "#Preprocess data\n",
        "\n",
        "train_images = train_images.astype('float32') / 255\n",
        "\n",
        "test_images = test_images.astype('float32') / 255"
      ],
      "metadata": {
        "id": "j9o5SWf1G7nx"
      },
      "execution_count": 2,
      "outputs": []
    },
    {
      "cell_type": "code",
      "source": [
        "from keras.utils import to_categorical\n",
        "#One-hot encode data\n",
        "train_labels = to_categorical(train_labels)\n",
        "test_labels = to_categorical(test_labels)\n",
        "\n",
        "\n",
        "test_labels"
      ],
      "metadata": {
        "colab": {
          "base_uri": "https://localhost:8080/"
        },
        "id": "hshpAXlABiSE",
        "outputId": "a32bb13a-5ab9-4b2b-d4af-ad414201d023"
      },
      "execution_count": 3,
      "outputs": [
        {
          "output_type": "execute_result",
          "data": {
            "text/plain": [
              "array([[0., 0., 0., ..., 0., 0., 0.],\n",
              "       [0., 0., 0., ..., 0., 1., 0.],\n",
              "       [0., 0., 0., ..., 0., 1., 0.],\n",
              "       ...,\n",
              "       [0., 0., 0., ..., 0., 0., 0.],\n",
              "       [0., 1., 0., ..., 0., 0., 0.],\n",
              "       [0., 0., 0., ..., 1., 0., 0.]], dtype=float32)"
            ]
          },
          "metadata": {},
          "execution_count": 3
        }
      ]
    },
    {
      "cell_type": "code",
      "source": [
        "#Build network\n",
        "from keras import models\n",
        "from keras import layers\n",
        "\n",
        "input_size= 1024 \n",
        "hidden_size = 256\n",
        "output_size = 10\n",
        "\n",
        "network = models.Sequential()\n",
        "network.add(layers.Flatten())\n",
        "network.add(layers.Dense(hidden_size, activation='relu', input_shape=(input_size,)))\n",
        "network.add(layers.Dense(output_size, activation='softmax'))"
      ],
      "metadata": {
        "id": "swjI9Lk96tQn"
      },
      "execution_count": 4,
      "outputs": []
    },
    {
      "cell_type": "code",
      "source": [
        "network.compile(optimizer='rmsprop',\n",
        "                loss='categorical_crossentropy',\n",
        "                metrics=['accuracy'])"
      ],
      "metadata": {
        "id": "6CvviqQ--LPs"
      },
      "execution_count": 5,
      "outputs": []
    },
    {
      "cell_type": "markdown",
      "source": [
        "####I will use the same first training model we used in the \"Deep Learning Lab\""
      ],
      "metadata": {
        "id": "UI8vOvo9Hgn1"
      }
    },
    {
      "cell_type": "code",
      "source": [
        "network.fit(train_images, train_labels, epochs=5, batch_size=128)"
      ],
      "metadata": {
        "colab": {
          "base_uri": "https://localhost:8080/"
        },
        "id": "vTo0cuRMHcKr",
        "outputId": "f8d90749-bb02-4462-a168-17256763baf7"
      },
      "execution_count": 6,
      "outputs": [
        {
          "output_type": "stream",
          "name": "stdout",
          "text": [
            "Epoch 1/5\n",
            "391/391 [==============================] - 8s 3ms/step - loss: 2.1630 - accuracy: 0.2662\n",
            "Epoch 2/5\n",
            "391/391 [==============================] - 1s 3ms/step - loss: 1.8142 - accuracy: 0.3509\n",
            "Epoch 3/5\n",
            "391/391 [==============================] - 1s 3ms/step - loss: 1.7362 - accuracy: 0.3820\n",
            "Epoch 4/5\n",
            "391/391 [==============================] - 1s 3ms/step - loss: 1.6907 - accuracy: 0.4017\n",
            "Epoch 5/5\n",
            "391/391 [==============================] - 1s 3ms/step - loss: 1.6535 - accuracy: 0.4155\n"
          ]
        },
        {
          "output_type": "execute_result",
          "data": {
            "text/plain": [
              "<keras.callbacks.History at 0x7f8aac1445b0>"
            ]
          },
          "metadata": {},
          "execution_count": 6
        }
      ]
    },
    {
      "cell_type": "markdown",
      "source": [
        "####We can also check to see if our model performs with similar accuracy on our test dataset"
      ],
      "metadata": {
        "id": "wNgBaLycJ4ml"
      }
    },
    {
      "cell_type": "code",
      "source": [
        "test_loss, test_acc = network.evaluate(test_images, test_labels)"
      ],
      "metadata": {
        "colab": {
          "base_uri": "https://localhost:8080/"
        },
        "id": "uwt_bisbJ_f7",
        "outputId": "02c3b069-7445-4f39-bd84-fc24b106c147"
      },
      "execution_count": 7,
      "outputs": [
        {
          "output_type": "stream",
          "name": "stdout",
          "text": [
            "313/313 [==============================] - 1s 2ms/step - loss: 1.6786 - accuracy: 0.4043\n"
          ]
        }
      ]
    },
    {
      "cell_type": "markdown",
      "source": [
        "###We received a 41.55% accuracy on our training data and 40.43% accuracy on our test data. For that model we were using 5 epochs, but the accuracy was improving with each epoch. We also used a batch size of 128 for that training, but we did not fill the system memory, so lets build, compile, and fit a new model with increased epochs and batch size in an attempt to increase accuracy."
      ],
      "metadata": {
        "id": "UzsGPSaeHyn1"
      }
    },
    {
      "cell_type": "code",
      "source": [
        "#Build network\n",
        "from keras import models\n",
        "from keras import layers\n",
        "\n",
        "input_size= 1024 \n",
        "hidden_size = 256\n",
        "output_size = 10\n",
        "\n",
        "network = models.Sequential()\n",
        "network.add(layers.Flatten())\n",
        "network.add(layers.Dense(hidden_size, activation='relu', input_shape=(input_size,)))\n",
        "network.add(layers.Dense(output_size, activation='softmax'))"
      ],
      "metadata": {
        "id": "mu5NDEspHoUy"
      },
      "execution_count": 8,
      "outputs": []
    },
    {
      "cell_type": "code",
      "source": [
        "network.compile(optimizer='rmsprop',\n",
        "                loss='categorical_crossentropy',\n",
        "                metrics=['accuracy'])"
      ],
      "metadata": {
        "id": "3WPwMRDuIHry"
      },
      "execution_count": 9,
      "outputs": []
    },
    {
      "cell_type": "code",
      "source": [
        "network.fit(train_images, train_labels, epochs=15, batch_size=200)"
      ],
      "metadata": {
        "colab": {
          "base_uri": "https://localhost:8080/"
        },
        "id": "KZA2C05rIKjr",
        "outputId": "3362dcf0-8001-4c2a-8b13-fef464251ff0"
      },
      "execution_count": 10,
      "outputs": [
        {
          "output_type": "stream",
          "name": "stdout",
          "text": [
            "Epoch 1/15\n",
            "250/250 [==============================] - 1s 3ms/step - loss: 2.2266 - accuracy: 0.2488\n",
            "Epoch 2/15\n",
            "250/250 [==============================] - 1s 3ms/step - loss: 1.8605 - accuracy: 0.3321\n",
            "Epoch 3/15\n",
            "250/250 [==============================] - 1s 3ms/step - loss: 1.7757 - accuracy: 0.3667\n",
            "Epoch 4/15\n",
            "250/250 [==============================] - 1s 3ms/step - loss: 1.7152 - accuracy: 0.3889\n",
            "Epoch 5/15\n",
            "250/250 [==============================] - 1s 3ms/step - loss: 1.6754 - accuracy: 0.4067\n",
            "Epoch 6/15\n",
            "250/250 [==============================] - 1s 3ms/step - loss: 1.6402 - accuracy: 0.4191\n",
            "Epoch 7/15\n",
            "250/250 [==============================] - 1s 3ms/step - loss: 1.6124 - accuracy: 0.4294\n",
            "Epoch 8/15\n",
            "250/250 [==============================] - 1s 3ms/step - loss: 1.5885 - accuracy: 0.4384\n",
            "Epoch 9/15\n",
            "250/250 [==============================] - 1s 3ms/step - loss: 1.5687 - accuracy: 0.4428\n",
            "Epoch 10/15\n",
            "250/250 [==============================] - 1s 3ms/step - loss: 1.5531 - accuracy: 0.4498\n",
            "Epoch 11/15\n",
            "250/250 [==============================] - 1s 3ms/step - loss: 1.5375 - accuracy: 0.4541\n",
            "Epoch 12/15\n",
            "250/250 [==============================] - 1s 3ms/step - loss: 1.5251 - accuracy: 0.4584\n",
            "Epoch 13/15\n",
            "250/250 [==============================] - 1s 3ms/step - loss: 1.5098 - accuracy: 0.4659\n",
            "Epoch 14/15\n",
            "250/250 [==============================] - 1s 3ms/step - loss: 1.5005 - accuracy: 0.4697\n",
            "Epoch 15/15\n",
            "250/250 [==============================] - 1s 3ms/step - loss: 1.4891 - accuracy: 0.4726\n"
          ]
        },
        {
          "output_type": "execute_result",
          "data": {
            "text/plain": [
              "<keras.callbacks.History at 0x7f8aa01da4f0>"
            ]
          },
          "metadata": {},
          "execution_count": 10
        }
      ]
    },
    {
      "cell_type": "markdown",
      "source": [
        "###From that model we see an increase in accuracy from 41% to 47%. After doing some research, I am interested in using a smaller batch size to require more passes per epoch, as well as an increased number of epochs, to hopefully obtain a higher accuracy."
      ],
      "metadata": {
        "id": "WfJiKnGUJd82"
      }
    },
    {
      "cell_type": "code",
      "source": [
        "#Build network\n",
        "from keras import models\n",
        "from keras import layers\n",
        "\n",
        "input_size= 1024 \n",
        "hidden_size = 256\n",
        "output_size = 10\n",
        "\n",
        "network = models.Sequential()\n",
        "network.add(layers.Flatten())\n",
        "network.add(layers.Dense(hidden_size, activation='relu', input_shape=(input_size,)))\n",
        "network.add(layers.Dense(output_size, activation='softmax'))"
      ],
      "metadata": {
        "id": "Z5jwXdIYJFmQ"
      },
      "execution_count": 11,
      "outputs": []
    },
    {
      "cell_type": "code",
      "source": [
        "network.compile(optimizer='rmsprop',\n",
        "                loss='categorical_crossentropy',\n",
        "                metrics=['accuracy'])"
      ],
      "metadata": {
        "id": "WPVROUl-Js35"
      },
      "execution_count": 12,
      "outputs": []
    },
    {
      "cell_type": "code",
      "source": [
        "network.fit(train_images, train_labels, epochs=25, batch_size=32)"
      ],
      "metadata": {
        "colab": {
          "base_uri": "https://localhost:8080/"
        },
        "id": "_iDPR_bLKwqk",
        "outputId": "e7a6d71b-a1ab-46db-9cf3-c78ed31f206e"
      },
      "execution_count": 14,
      "outputs": [
        {
          "output_type": "stream",
          "name": "stdout",
          "text": [
            "Epoch 1/25\n",
            "1563/1563 [==============================] - 4s 2ms/step - loss: 1.6007 - accuracy: 0.4334\n",
            "Epoch 2/25\n",
            "1563/1563 [==============================] - 4s 2ms/step - loss: 1.5663 - accuracy: 0.4488\n",
            "Epoch 3/25\n",
            "1563/1563 [==============================] - 4s 2ms/step - loss: 1.5415 - accuracy: 0.4590\n",
            "Epoch 4/25\n",
            "1563/1563 [==============================] - 4s 2ms/step - loss: 1.5248 - accuracy: 0.4661\n",
            "Epoch 5/25\n",
            "1563/1563 [==============================] - 4s 2ms/step - loss: 1.5036 - accuracy: 0.4720\n",
            "Epoch 6/25\n",
            "1563/1563 [==============================] - 4s 2ms/step - loss: 1.4909 - accuracy: 0.4773\n",
            "Epoch 7/25\n",
            "1563/1563 [==============================] - 4s 2ms/step - loss: 1.4800 - accuracy: 0.4825\n",
            "Epoch 8/25\n",
            "1563/1563 [==============================] - 4s 2ms/step - loss: 1.4628 - accuracy: 0.4885\n",
            "Epoch 9/25\n",
            "1563/1563 [==============================] - 4s 2ms/step - loss: 1.4559 - accuracy: 0.4918\n",
            "Epoch 10/25\n",
            "1563/1563 [==============================] - 4s 2ms/step - loss: 1.4428 - accuracy: 0.4991\n",
            "Epoch 11/25\n",
            "1563/1563 [==============================] - 4s 2ms/step - loss: 1.4321 - accuracy: 0.5004\n",
            "Epoch 12/25\n",
            "1563/1563 [==============================] - 4s 2ms/step - loss: 1.4234 - accuracy: 0.5048\n",
            "Epoch 13/25\n",
            "1563/1563 [==============================] - 4s 2ms/step - loss: 1.4167 - accuracy: 0.5070\n",
            "Epoch 14/25\n",
            "1563/1563 [==============================] - 4s 2ms/step - loss: 1.4072 - accuracy: 0.5089\n",
            "Epoch 15/25\n",
            "1563/1563 [==============================] - 4s 2ms/step - loss: 1.3978 - accuracy: 0.5123\n",
            "Epoch 16/25\n",
            "1563/1563 [==============================] - 4s 2ms/step - loss: 1.3926 - accuracy: 0.5147\n",
            "Epoch 17/25\n",
            "1563/1563 [==============================] - 4s 2ms/step - loss: 1.3855 - accuracy: 0.5175\n",
            "Epoch 18/25\n",
            "1563/1563 [==============================] - 4s 2ms/step - loss: 1.3802 - accuracy: 0.5213\n",
            "Epoch 19/25\n",
            "1563/1563 [==============================] - 4s 2ms/step - loss: 1.3782 - accuracy: 0.5225\n",
            "Epoch 20/25\n",
            "1563/1563 [==============================] - 4s 2ms/step - loss: 1.3668 - accuracy: 0.5227\n",
            "Epoch 21/25\n",
            "1563/1563 [==============================] - 4s 2ms/step - loss: 1.3598 - accuracy: 0.5276\n",
            "Epoch 22/25\n",
            "1563/1563 [==============================] - 4s 2ms/step - loss: 1.3551 - accuracy: 0.5292\n",
            "Epoch 23/25\n",
            "1563/1563 [==============================] - 4s 2ms/step - loss: 1.3526 - accuracy: 0.5305\n",
            "Epoch 24/25\n",
            "1563/1563 [==============================] - 4s 2ms/step - loss: 1.3448 - accuracy: 0.5347\n",
            "Epoch 25/25\n",
            "1563/1563 [==============================] - 4s 2ms/step - loss: 1.3421 - accuracy: 0.5336\n"
          ]
        },
        {
          "output_type": "execute_result",
          "data": {
            "text/plain": [
              "<keras.callbacks.History at 0x7f8a2c3e2be0>"
            ]
          },
          "metadata": {},
          "execution_count": 14
        }
      ]
    },
    {
      "cell_type": "markdown",
      "source": [
        "###The use of 25 epochs and a batch size of 32 resulted in a 53.36% accuracy rate, we are continuing to improve!"
      ],
      "metadata": {
        "id": "R42rJq3BNoUz"
      }
    },
    {
      "cell_type": "markdown",
      "source": [
        "###I would also like to experiment with adding a second hidden layer to the network and slightly increasing batch size in order to increase epoch size quite a bit. "
      ],
      "metadata": {
        "id": "qMM3ajLEOWHb"
      }
    },
    {
      "cell_type": "code",
      "source": [
        "#Build the network\n",
        "from keras import models\n",
        "from keras import layers\n",
        "\n",
        "input_size=1024 \n",
        "hidden_size = [512, 256]\n",
        "output_size = 10\n",
        "\n",
        "network = models.Sequential()\n",
        "network.add(layers.Flatten())\n",
        "network.add(layers.Dense(hidden_size[0], activation='relu', input_shape=(input_size,)))\n",
        "network.add(layers.Dense(hidden_size[1], activation='relu'))\n",
        "network.add(layers.Dense(output_size, activation='softmax'))"
      ],
      "metadata": {
        "id": "yfd2NcLEMADt"
      },
      "execution_count": 15,
      "outputs": []
    },
    {
      "cell_type": "code",
      "source": [
        "network.compile(optimizer='rmsprop',\n",
        "                loss='categorical_crossentropy',\n",
        "                metrics=['accuracy'])"
      ],
      "metadata": {
        "id": "WEuSWOOkOta9"
      },
      "execution_count": 16,
      "outputs": []
    },
    {
      "cell_type": "code",
      "source": [
        "network.fit(train_images, train_labels, epochs=50, batch_size=64)"
      ],
      "metadata": {
        "colab": {
          "base_uri": "https://localhost:8080/"
        },
        "id": "tSz7SyIVOtp6",
        "outputId": "2f6b26e5-d543-4011-c98a-30c7b654e1ab"
      },
      "execution_count": 17,
      "outputs": [
        {
          "output_type": "stream",
          "name": "stdout",
          "text": [
            "Epoch 1/50\n",
            "782/782 [==============================] - 3s 3ms/step - loss: 1.9835 - accuracy: 0.2981\n",
            "Epoch 2/50\n",
            "782/782 [==============================] - 2s 3ms/step - loss: 1.7168 - accuracy: 0.3829\n",
            "Epoch 3/50\n",
            "782/782 [==============================] - 2s 3ms/step - loss: 1.6323 - accuracy: 0.4179\n",
            "Epoch 4/50\n",
            "782/782 [==============================] - 2s 3ms/step - loss: 1.5789 - accuracy: 0.4352\n",
            "Epoch 5/50\n",
            "782/782 [==============================] - 2s 3ms/step - loss: 1.5392 - accuracy: 0.4532\n",
            "Epoch 6/50\n",
            "782/782 [==============================] - 2s 3ms/step - loss: 1.5055 - accuracy: 0.4643\n",
            "Epoch 7/50\n",
            "782/782 [==============================] - 2s 3ms/step - loss: 1.4796 - accuracy: 0.4759\n",
            "Epoch 8/50\n",
            "782/782 [==============================] - 2s 3ms/step - loss: 1.4556 - accuracy: 0.4828\n",
            "Epoch 9/50\n",
            "782/782 [==============================] - 2s 3ms/step - loss: 1.4373 - accuracy: 0.4889\n",
            "Epoch 10/50\n",
            "782/782 [==============================] - 2s 3ms/step - loss: 1.4216 - accuracy: 0.4963\n",
            "Epoch 11/50\n",
            "782/782 [==============================] - 2s 3ms/step - loss: 1.4065 - accuracy: 0.5020\n",
            "Epoch 12/50\n",
            "782/782 [==============================] - 2s 3ms/step - loss: 1.3922 - accuracy: 0.5067\n",
            "Epoch 13/50\n",
            "782/782 [==============================] - 2s 3ms/step - loss: 1.3794 - accuracy: 0.5118\n",
            "Epoch 14/50\n",
            "782/782 [==============================] - 2s 3ms/step - loss: 1.3705 - accuracy: 0.5143\n",
            "Epoch 15/50\n",
            "782/782 [==============================] - 2s 3ms/step - loss: 1.3577 - accuracy: 0.5214\n",
            "Epoch 16/50\n",
            "782/782 [==============================] - 2s 3ms/step - loss: 1.3477 - accuracy: 0.5236\n",
            "Epoch 17/50\n",
            "782/782 [==============================] - 2s 3ms/step - loss: 1.3410 - accuracy: 0.5276\n",
            "Epoch 18/50\n",
            "782/782 [==============================] - 2s 3ms/step - loss: 1.3298 - accuracy: 0.5301\n",
            "Epoch 19/50\n",
            "782/782 [==============================] - 2s 3ms/step - loss: 1.3230 - accuracy: 0.5318\n",
            "Epoch 20/50\n",
            "782/782 [==============================] - 2s 3ms/step - loss: 1.3171 - accuracy: 0.5366\n",
            "Epoch 21/50\n",
            "782/782 [==============================] - 2s 3ms/step - loss: 1.3120 - accuracy: 0.5379\n",
            "Epoch 22/50\n",
            "782/782 [==============================] - 2s 3ms/step - loss: 1.3035 - accuracy: 0.5408\n",
            "Epoch 23/50\n",
            "782/782 [==============================] - 2s 3ms/step - loss: 1.2992 - accuracy: 0.5441\n",
            "Epoch 24/50\n",
            "782/782 [==============================] - 2s 3ms/step - loss: 1.2935 - accuracy: 0.5454\n",
            "Epoch 25/50\n",
            "782/782 [==============================] - 2s 3ms/step - loss: 1.2901 - accuracy: 0.5447\n",
            "Epoch 26/50\n",
            "782/782 [==============================] - 2s 3ms/step - loss: 1.2830 - accuracy: 0.5491\n",
            "Epoch 27/50\n",
            "782/782 [==============================] - 2s 3ms/step - loss: 1.2821 - accuracy: 0.5514\n",
            "Epoch 28/50\n",
            "782/782 [==============================] - 2s 3ms/step - loss: 1.2796 - accuracy: 0.5521\n",
            "Epoch 29/50\n",
            "782/782 [==============================] - 2s 3ms/step - loss: 1.2743 - accuracy: 0.5524\n",
            "Epoch 30/50\n",
            "782/782 [==============================] - 2s 3ms/step - loss: 1.2737 - accuracy: 0.5538\n",
            "Epoch 31/50\n",
            "782/782 [==============================] - 2s 3ms/step - loss: 1.2726 - accuracy: 0.5520\n",
            "Epoch 32/50\n",
            "782/782 [==============================] - 2s 3ms/step - loss: 1.2700 - accuracy: 0.5573\n",
            "Epoch 33/50\n",
            "782/782 [==============================] - 2s 3ms/step - loss: 1.2661 - accuracy: 0.5605\n",
            "Epoch 34/50\n",
            "782/782 [==============================] - 2s 3ms/step - loss: 1.2677 - accuracy: 0.5570\n",
            "Epoch 35/50\n",
            "782/782 [==============================] - 2s 3ms/step - loss: 1.2645 - accuracy: 0.5598\n",
            "Epoch 36/50\n",
            "782/782 [==============================] - 2s 3ms/step - loss: 1.2636 - accuracy: 0.5588\n",
            "Epoch 37/50\n",
            "782/782 [==============================] - 2s 3ms/step - loss: 1.2654 - accuracy: 0.5560\n",
            "Epoch 38/50\n",
            "782/782 [==============================] - 2s 3ms/step - loss: 1.2602 - accuracy: 0.5592\n",
            "Epoch 39/50\n",
            "782/782 [==============================] - 2s 3ms/step - loss: 1.2585 - accuracy: 0.5589\n",
            "Epoch 40/50\n",
            "782/782 [==============================] - 2s 3ms/step - loss: 1.2518 - accuracy: 0.5624\n",
            "Epoch 41/50\n",
            "782/782 [==============================] - 2s 3ms/step - loss: 1.2614 - accuracy: 0.5618\n",
            "Epoch 42/50\n",
            "782/782 [==============================] - 2s 3ms/step - loss: 1.2538 - accuracy: 0.5632\n",
            "Epoch 43/50\n",
            "782/782 [==============================] - 2s 3ms/step - loss: 1.2565 - accuracy: 0.5639\n",
            "Epoch 44/50\n",
            "782/782 [==============================] - 2s 3ms/step - loss: 1.2605 - accuracy: 0.5613\n",
            "Epoch 45/50\n",
            "782/782 [==============================] - 2s 3ms/step - loss: 1.2572 - accuracy: 0.5660\n",
            "Epoch 46/50\n",
            "782/782 [==============================] - 2s 3ms/step - loss: 1.2562 - accuracy: 0.5627\n",
            "Epoch 47/50\n",
            "782/782 [==============================] - 2s 3ms/step - loss: 1.2566 - accuracy: 0.5620\n",
            "Epoch 48/50\n",
            "782/782 [==============================] - 2s 3ms/step - loss: 1.2589 - accuracy: 0.5649\n",
            "Epoch 49/50\n",
            "782/782 [==============================] - 2s 3ms/step - loss: 1.2598 - accuracy: 0.5653\n",
            "Epoch 50/50\n",
            "782/782 [==============================] - 2s 3ms/step - loss: 1.2555 - accuracy: 0.5667\n"
          ]
        },
        {
          "output_type": "execute_result",
          "data": {
            "text/plain": [
              "<keras.callbacks.History at 0x7f8aa00cb910>"
            ]
          },
          "metadata": {},
          "execution_count": 17
        }
      ]
    },
    {
      "cell_type": "markdown",
      "source": [
        "###We have increased accuracy to 56.67%, but lets check how the model performs on the test data to get more information."
      ],
      "metadata": {
        "id": "PGVLkp5gPWvh"
      }
    },
    {
      "cell_type": "code",
      "source": [
        "test_loss, test_acc = network.evaluate(test_images, test_labels)"
      ],
      "metadata": {
        "colab": {
          "base_uri": "https://localhost:8080/"
        },
        "id": "8-XFeKEZOxEJ",
        "outputId": "08b59629-033d-4a49-ec91-089a2f012ada"
      },
      "execution_count": 18,
      "outputs": [
        {
          "output_type": "stream",
          "name": "stdout",
          "text": [
            "313/313 [==============================] - 1s 2ms/step - loss: 2.1179 - accuracy: 0.4341\n"
          ]
        }
      ]
    },
    {
      "cell_type": "markdown",
      "source": [
        "###Our model only had a 43% accuracy on the test data, meaning it is overfitting the data. I think adding the additional hidden layer increased complexity and caused the overfitting. I will remove that layer, add a validation set, and visualize the data to check for overfitting."
      ],
      "metadata": {
        "id": "dkx5OGK0PrBP"
      }
    },
    {
      "cell_type": "code",
      "source": [
        "#Load dataset\n",
        "cifar10 = tf.keras.datasets.cifar10\n",
        "(train_images, train_labels), (test_images, test_labels) = cifar10.load_data()"
      ],
      "metadata": {
        "id": "12InCTt0Vj-k"
      },
      "execution_count": 33,
      "outputs": []
    },
    {
      "cell_type": "code",
      "source": [
        "#Preprocess data\n",
        "\n",
        "train_images = train_images.astype('float32') / 255\n",
        "test_images = test_images.astype('float32') / 255"
      ],
      "metadata": {
        "id": "gTvWW4FrPoQB"
      },
      "execution_count": 34,
      "outputs": []
    },
    {
      "cell_type": "code",
      "source": [
        "from keras.utils import to_categorical\n",
        "#One-hot encode data\n",
        "train_labels = to_categorical(train_labels)\n",
        "test_labels = to_categorical(test_labels)"
      ],
      "metadata": {
        "id": "b-wNX1a4W8K-"
      },
      "execution_count": 35,
      "outputs": []
    },
    {
      "cell_type": "code",
      "source": [
        "#Build network\n",
        "from keras import models\n",
        "from keras import layers\n",
        "\n",
        "input_size= 1024 \n",
        "hidden_size = 256\n",
        "output_size = 10\n",
        "\n",
        "network = models.Sequential()\n",
        "network.add(layers.Flatten())\n",
        "network.add(layers.Dense(hidden_size, activation='relu', input_shape=(input_size,)))\n",
        "network.add(layers.Dense(output_size, activation='softmax'))"
      ],
      "metadata": {
        "id": "RmJQdtiNXCm6"
      },
      "execution_count": 42,
      "outputs": []
    },
    {
      "cell_type": "code",
      "source": [
        "network.compile(optimizer='rmsprop',\n",
        "                loss='categorical_crossentropy',\n",
        "                metrics=['accuracy'])"
      ],
      "metadata": {
        "id": "h4NFurX7Xuv-"
      },
      "execution_count": 43,
      "outputs": []
    },
    {
      "cell_type": "code",
      "source": [
        "history = network.fit(train_images, train_labels, validation_split=0.33, epochs=25, batch_size=32)"
      ],
      "metadata": {
        "colab": {
          "base_uri": "https://localhost:8080/"
        },
        "id": "OKIikFCwX8ks",
        "outputId": "fe787935-7b77-4fd1-a460-3734b58cb271"
      },
      "execution_count": 89,
      "outputs": [
        {
          "output_type": "stream",
          "name": "stdout",
          "text": [
            "Epoch 1/25\n",
            "943/943 [==============================] - 4s 4ms/step - loss: 2.0388 - accuracy: 0.2742 - val_loss: 1.9005 - val_accuracy: 0.3203\n",
            "Epoch 2/25\n",
            "943/943 [==============================] - 3s 3ms/step - loss: 1.8403 - accuracy: 0.3382 - val_loss: 1.8347 - val_accuracy: 0.3238\n",
            "Epoch 3/25\n",
            "943/943 [==============================] - 3s 3ms/step - loss: 1.7902 - accuracy: 0.3609 - val_loss: 1.7577 - val_accuracy: 0.3573\n",
            "Epoch 4/25\n",
            "943/943 [==============================] - 3s 3ms/step - loss: 1.7592 - accuracy: 0.3700 - val_loss: 1.7608 - val_accuracy: 0.3707\n",
            "Epoch 5/25\n",
            "943/943 [==============================] - 3s 3ms/step - loss: 1.7375 - accuracy: 0.3769 - val_loss: 1.7808 - val_accuracy: 0.3624\n",
            "Epoch 6/25\n",
            "943/943 [==============================] - 3s 3ms/step - loss: 1.7274 - accuracy: 0.3821 - val_loss: 1.6967 - val_accuracy: 0.3879\n",
            "Epoch 7/25\n",
            "943/943 [==============================] - 3s 3ms/step - loss: 1.7114 - accuracy: 0.3898 - val_loss: 1.8767 - val_accuracy: 0.3264\n",
            "Epoch 8/25\n",
            "943/943 [==============================] - 3s 3ms/step - loss: 1.6975 - accuracy: 0.3964 - val_loss: 1.6952 - val_accuracy: 0.3953\n",
            "Epoch 9/25\n",
            "943/943 [==============================] - 3s 3ms/step - loss: 1.6936 - accuracy: 0.4010 - val_loss: 1.6740 - val_accuracy: 0.4002\n",
            "Epoch 10/25\n",
            "943/943 [==============================] - 3s 3ms/step - loss: 1.6830 - accuracy: 0.3972 - val_loss: 1.8054 - val_accuracy: 0.3837\n",
            "Epoch 11/25\n",
            "943/943 [==============================] - 3s 3ms/step - loss: 1.6810 - accuracy: 0.4012 - val_loss: 1.6863 - val_accuracy: 0.3981\n",
            "Epoch 12/25\n",
            "943/943 [==============================] - 3s 3ms/step - loss: 1.6720 - accuracy: 0.4065 - val_loss: 1.6853 - val_accuracy: 0.4058\n",
            "Epoch 13/25\n",
            "943/943 [==============================] - 3s 3ms/step - loss: 1.6660 - accuracy: 0.4058 - val_loss: 1.6463 - val_accuracy: 0.4028\n",
            "Epoch 14/25\n",
            "943/943 [==============================] - 3s 3ms/step - loss: 1.6610 - accuracy: 0.4091 - val_loss: 1.7037 - val_accuracy: 0.3993\n",
            "Epoch 15/25\n",
            "943/943 [==============================] - 3s 3ms/step - loss: 1.6539 - accuracy: 0.4105 - val_loss: 1.6212 - val_accuracy: 0.4330\n",
            "Epoch 16/25\n",
            "943/943 [==============================] - 3s 3ms/step - loss: 1.6533 - accuracy: 0.4132 - val_loss: 1.6465 - val_accuracy: 0.4208\n",
            "Epoch 17/25\n",
            "943/943 [==============================] - 3s 3ms/step - loss: 1.6489 - accuracy: 0.4145 - val_loss: 1.7079 - val_accuracy: 0.4056\n",
            "Epoch 18/25\n",
            "943/943 [==============================] - 3s 3ms/step - loss: 1.6460 - accuracy: 0.4165 - val_loss: 1.6277 - val_accuracy: 0.4199\n",
            "Epoch 19/25\n",
            "943/943 [==============================] - 3s 3ms/step - loss: 1.6405 - accuracy: 0.4159 - val_loss: 1.6415 - val_accuracy: 0.4233\n",
            "Epoch 20/25\n",
            "943/943 [==============================] - 3s 3ms/step - loss: 1.6399 - accuracy: 0.4170 - val_loss: 1.6292 - val_accuracy: 0.4369\n",
            "Epoch 21/25\n",
            "943/943 [==============================] - 3s 3ms/step - loss: 1.6368 - accuracy: 0.4188 - val_loss: 1.6158 - val_accuracy: 0.4283\n",
            "Epoch 22/25\n",
            "943/943 [==============================] - 3s 3ms/step - loss: 1.6362 - accuracy: 0.4203 - val_loss: 1.6858 - val_accuracy: 0.4069\n",
            "Epoch 23/25\n",
            "943/943 [==============================] - 3s 3ms/step - loss: 1.6355 - accuracy: 0.4200 - val_loss: 1.6379 - val_accuracy: 0.4291\n",
            "Epoch 24/25\n",
            "943/943 [==============================] - 3s 3ms/step - loss: 1.6313 - accuracy: 0.4223 - val_loss: 1.6796 - val_accuracy: 0.4067\n",
            "Epoch 25/25\n",
            "943/943 [==============================] - 3s 3ms/step - loss: 1.6304 - accuracy: 0.4223 - val_loss: 1.6919 - val_accuracy: 0.4159\n"
          ]
        }
      ]
    },
    {
      "cell_type": "code",
      "source": [
        "#Plot training and validation accuracy and loss side by side\n",
        "import matplotlib.pyplot as plt\n",
        "\n",
        "acc = history.history['accuracy']\n",
        "val_acc = history.history['val_accuracy']\n",
        "loss = history.history['loss']\n",
        "val_loss = history.history['val_loss']\n",
        "\n",
        "epochs = range(len(acc))\n",
        "\n",
        "plt.plot(epochs, acc, 'bo', label='Training acc')\n",
        "plt.plot(epochs, val_acc, 'b', label='Validation acc')\n",
        "plt.title('Training and validation accuracy')\n",
        "plt.legend()\n",
        "\n",
        "plt.figure()\n",
        "\n",
        "plt.plot(epochs, loss, 'bo', label='Training loss')\n",
        "plt.plot(epochs, val_loss, 'b', label='Validation loss')\n",
        "plt.title('Training and validation loss')\n",
        "plt.legend()\n",
        "\n",
        "plt.show()"
      ],
      "metadata": {
        "colab": {
          "base_uri": "https://localhost:8080/",
          "height": 887
        },
        "id": "a42_ZIEqZAec",
        "outputId": "73f2ea8f-b0b3-45c6-e055-8bd0407e78cc"
      },
      "execution_count": 45,
      "outputs": [
        {
          "output_type": "display_data",
          "data": {
            "text/plain": [
              "<Figure size 640x480 with 1 Axes>"
            ],
            "image/png": "[encoded data removed]"
          },
          "metadata": {}
        },
        {
          "output_type": "display_data",
          "data": {
            "text/plain": [
              "<Figure size 640x480 with 1 Axes>"
            ],
            "image/png": "[encoded data removed]"
          },
          "metadata": {}
        }
      ]
    },
    {
      "cell_type": "markdown",
      "source": [
        "##From the above graphs some overfitting is occuring, but let's check the model accuracy on the test data."
      ],
      "metadata": {
        "id": "pfT7eVul0evh"
      }
    },
    {
      "cell_type": "code",
      "source": [
        "test_loss, test_acc = network.evaluate(test_images, test_labels)"
      ],
      "metadata": {
        "colab": {
          "base_uri": "https://localhost:8080/"
        },
        "id": "33ooduhVApqe",
        "outputId": "c45c25ac-06b4-4464-8684-92e9954aa8a1"
      },
      "execution_count": 90,
      "outputs": [
        {
          "output_type": "stream",
          "name": "stdout",
          "text": [
            "313/313 [==============================] - 1s 2ms/step - loss: 1.6689 - accuracy: 0.4180\n"
          ]
        }
      ]
    },
    {
      "cell_type": "markdown",
      "source": [
        "###Although our accuracy score is decreased from previous models, the training data and test data accuracy are more similar (42.2% and 41.8%), so we have solved some of our overfitting. I will adjust the epoch and batch size again and add a droupout layer to attempt to increase accuracy."
      ],
      "metadata": {
        "id": "8aHuI30sA_c7"
      }
    },
    {
      "cell_type": "code",
      "source": [
        "#Build network\n",
        "from keras import models\n",
        "from keras import layers\n",
        "\n",
        "input_size= 1024 \n",
        "hidden_size = 256\n",
        "output_size = 10\n",
        "\n",
        "network = models.Sequential()\n",
        "network.add(layers.Flatten())\n",
        "network.add(layers.Dropout(0.5))\n",
        "network.add(layers.Dense(hidden_size, activation='relu', input_shape=(input_size,)))\n",
        "network.add(layers.Dense(output_size, activation='softmax'))"
      ],
      "metadata": {
        "id": "Ps1jQJvmCWXe"
      },
      "execution_count": 93,
      "outputs": []
    },
    {
      "cell_type": "code",
      "source": [
        "network.compile(optimizer='rmsprop',\n",
        "                loss='categorical_crossentropy',\n",
        "                metrics=['accuracy'])"
      ],
      "metadata": {
        "id": "nGB3AC8uCvdo"
      },
      "execution_count": 94,
      "outputs": []
    },
    {
      "cell_type": "code",
      "source": [
        "history = network.fit(train_images, train_labels, validation_split=0.33, epochs=50, batch_size=64)"
      ],
      "metadata": {
        "colab": {
          "base_uri": "https://localhost:8080/"
        },
        "id": "N_hTuGGgA-Te",
        "outputId": "4622f064-e5ca-4770-a989-109953d1bb39"
      },
      "execution_count": 95,
      "outputs": [
        {
          "output_type": "stream",
          "name": "stdout",
          "text": [
            "Epoch 1/50\n",
            "472/472 [==============================] - 3s 4ms/step - loss: 2.1319 - accuracy: 0.2546 - val_loss: 2.4197 - val_accuracy: 0.2018\n",
            "Epoch 2/50\n",
            "472/472 [==============================] - 2s 4ms/step - loss: 1.8607 - accuracy: 0.3322 - val_loss: 1.9940 - val_accuracy: 0.2822\n",
            "Epoch 3/50\n",
            "472/472 [==============================] - 2s 4ms/step - loss: 1.7962 - accuracy: 0.3602 - val_loss: 2.0023 - val_accuracy: 0.2976\n",
            "Epoch 4/50\n",
            "472/472 [==============================] - 2s 4ms/step - loss: 1.7588 - accuracy: 0.3704 - val_loss: 1.8429 - val_accuracy: 0.3532\n",
            "Epoch 5/50\n",
            "472/472 [==============================] - 2s 4ms/step - loss: 1.7370 - accuracy: 0.3782 - val_loss: 1.9586 - val_accuracy: 0.3098\n",
            "Epoch 6/50\n",
            "472/472 [==============================] - 2s 4ms/step - loss: 1.7135 - accuracy: 0.3894 - val_loss: 1.7742 - val_accuracy: 0.3785\n",
            "Epoch 7/50\n",
            "472/472 [==============================] - 2s 4ms/step - loss: 1.7014 - accuracy: 0.3969 - val_loss: 1.8380 - val_accuracy: 0.3534\n",
            "Epoch 8/50\n",
            "472/472 [==============================] - 2s 4ms/step - loss: 1.6872 - accuracy: 0.4013 - val_loss: 1.6507 - val_accuracy: 0.4291\n",
            "Epoch 9/50\n",
            "472/472 [==============================] - 2s 4ms/step - loss: 1.6730 - accuracy: 0.4031 - val_loss: 1.7016 - val_accuracy: 0.3895\n",
            "Epoch 10/50\n",
            "472/472 [==============================] - 2s 4ms/step - loss: 1.6583 - accuracy: 0.4093 - val_loss: 1.7960 - val_accuracy: 0.3692\n",
            "Epoch 11/50\n",
            "472/472 [==============================] - 2s 4ms/step - loss: 1.6534 - accuracy: 0.4096 - val_loss: 1.7146 - val_accuracy: 0.3860\n",
            "Epoch 12/50\n",
            "472/472 [==============================] - 2s 4ms/step - loss: 1.6464 - accuracy: 0.4138 - val_loss: 1.7610 - val_accuracy: 0.3930\n",
            "Epoch 13/50\n",
            "472/472 [==============================] - 2s 4ms/step - loss: 1.6447 - accuracy: 0.4168 - val_loss: 1.6974 - val_accuracy: 0.4046\n",
            "Epoch 14/50\n",
            "472/472 [==============================] - 2s 4ms/step - loss: 1.6358 - accuracy: 0.4143 - val_loss: 1.6364 - val_accuracy: 0.4213\n",
            "Epoch 15/50\n",
            "472/472 [==============================] - 2s 4ms/step - loss: 1.6264 - accuracy: 0.4222 - val_loss: 1.6843 - val_accuracy: 0.3935\n",
            "Epoch 16/50\n",
            "472/472 [==============================] - 2s 4ms/step - loss: 1.6203 - accuracy: 0.4243 - val_loss: 1.6259 - val_accuracy: 0.4180\n",
            "Epoch 17/50\n",
            "472/472 [==============================] - 2s 4ms/step - loss: 1.6197 - accuracy: 0.4248 - val_loss: 1.6305 - val_accuracy: 0.4250\n",
            "Epoch 18/50\n",
            "472/472 [==============================] - 2s 4ms/step - loss: 1.6171 - accuracy: 0.4215 - val_loss: 1.7049 - val_accuracy: 0.3848\n",
            "Epoch 19/50\n",
            "472/472 [==============================] - 2s 4ms/step - loss: 1.6140 - accuracy: 0.4250 - val_loss: 1.8390 - val_accuracy: 0.3438\n",
            "Epoch 20/50\n",
            "472/472 [==============================] - 2s 4ms/step - loss: 1.6060 - accuracy: 0.4283 - val_loss: 1.6909 - val_accuracy: 0.4030\n",
            "Epoch 21/50\n",
            "472/472 [==============================] - 2s 4ms/step - loss: 1.6032 - accuracy: 0.4299 - val_loss: 1.6797 - val_accuracy: 0.4072\n",
            "Epoch 22/50\n",
            "472/472 [==============================] - 2s 4ms/step - loss: 1.6014 - accuracy: 0.4304 - val_loss: 1.6495 - val_accuracy: 0.4217\n",
            "Epoch 23/50\n",
            "472/472 [==============================] - 2s 4ms/step - loss: 1.5906 - accuracy: 0.4347 - val_loss: 1.6495 - val_accuracy: 0.4241\n",
            "Epoch 24/50\n",
            "472/472 [==============================] - 2s 4ms/step - loss: 1.5931 - accuracy: 0.4347 - val_loss: 1.6119 - val_accuracy: 0.4364\n",
            "Epoch 25/50\n",
            "472/472 [==============================] - 2s 4ms/step - loss: 1.5883 - accuracy: 0.4346 - val_loss: 1.6613 - val_accuracy: 0.4287\n",
            "Epoch 26/50\n",
            "472/472 [==============================] - 2s 4ms/step - loss: 1.5867 - accuracy: 0.4351 - val_loss: 1.6342 - val_accuracy: 0.4289\n",
            "Epoch 27/50\n",
            "472/472 [==============================] - 2s 4ms/step - loss: 1.5789 - accuracy: 0.4361 - val_loss: 1.7645 - val_accuracy: 0.3890\n",
            "Epoch 28/50\n",
            "472/472 [==============================] - 2s 4ms/step - loss: 1.5776 - accuracy: 0.4396 - val_loss: 1.6957 - val_accuracy: 0.4013\n",
            "Epoch 29/50\n",
            "472/472 [==============================] - 2s 4ms/step - loss: 1.5823 - accuracy: 0.4344 - val_loss: 1.6023 - val_accuracy: 0.4310\n",
            "Epoch 30/50\n",
            "472/472 [==============================] - 2s 4ms/step - loss: 1.5746 - accuracy: 0.4402 - val_loss: 1.6127 - val_accuracy: 0.4492\n",
            "Epoch 31/50\n",
            "472/472 [==============================] - 2s 4ms/step - loss: 1.5673 - accuracy: 0.4423 - val_loss: 1.6506 - val_accuracy: 0.4141\n",
            "Epoch 32/50\n",
            "472/472 [==============================] - 2s 4ms/step - loss: 1.5687 - accuracy: 0.4391 - val_loss: 1.6731 - val_accuracy: 0.4116\n",
            "Epoch 33/50\n",
            "472/472 [==============================] - 2s 4ms/step - loss: 1.5653 - accuracy: 0.4430 - val_loss: 1.6475 - val_accuracy: 0.4091\n",
            "Epoch 34/50\n",
            "472/472 [==============================] - 2s 4ms/step - loss: 1.5607 - accuracy: 0.4400 - val_loss: 1.6132 - val_accuracy: 0.4349\n",
            "Epoch 35/50\n",
            "472/472 [==============================] - 2s 4ms/step - loss: 1.5642 - accuracy: 0.4451 - val_loss: 1.6552 - val_accuracy: 0.4151\n",
            "Epoch 36/50\n",
            "472/472 [==============================] - 2s 4ms/step - loss: 1.5612 - accuracy: 0.4467 - val_loss: 1.6395 - val_accuracy: 0.4334\n",
            "Epoch 37/50\n",
            "472/472 [==============================] - 2s 4ms/step - loss: 1.5567 - accuracy: 0.4473 - val_loss: 1.6032 - val_accuracy: 0.4384\n",
            "Epoch 38/50\n",
            "472/472 [==============================] - 2s 4ms/step - loss: 1.5518 - accuracy: 0.4495 - val_loss: 1.6116 - val_accuracy: 0.4410\n",
            "Epoch 39/50\n",
            "472/472 [==============================] - 2s 4ms/step - loss: 1.5522 - accuracy: 0.4501 - val_loss: 1.6106 - val_accuracy: 0.4332\n",
            "Epoch 40/50\n",
            "472/472 [==============================] - 2s 4ms/step - loss: 1.5470 - accuracy: 0.4508 - val_loss: 1.6556 - val_accuracy: 0.4240\n",
            "Epoch 41/50\n",
            "472/472 [==============================] - 2s 4ms/step - loss: 1.5489 - accuracy: 0.4496 - val_loss: 1.6908 - val_accuracy: 0.4198\n",
            "Epoch 42/50\n",
            "472/472 [==============================] - 2s 4ms/step - loss: 1.5398 - accuracy: 0.4515 - val_loss: 1.6344 - val_accuracy: 0.4393\n",
            "Epoch 43/50\n",
            "472/472 [==============================] - 2s 4ms/step - loss: 1.5452 - accuracy: 0.4512 - val_loss: 1.6249 - val_accuracy: 0.4332\n",
            "Epoch 44/50\n",
            "472/472 [==============================] - 2s 4ms/step - loss: 1.5469 - accuracy: 0.4489 - val_loss: 1.5955 - val_accuracy: 0.4435\n",
            "Epoch 45/50\n",
            "472/472 [==============================] - 2s 4ms/step - loss: 1.5339 - accuracy: 0.4514 - val_loss: 1.5900 - val_accuracy: 0.4466\n",
            "Epoch 46/50\n",
            "472/472 [==============================] - 2s 4ms/step - loss: 1.5364 - accuracy: 0.4525 - val_loss: 1.6913 - val_accuracy: 0.4202\n",
            "Epoch 47/50\n",
            "472/472 [==============================] - 2s 4ms/step - loss: 1.5374 - accuracy: 0.4549 - val_loss: 1.6476 - val_accuracy: 0.4306\n",
            "Epoch 48/50\n",
            "472/472 [==============================] - 2s 4ms/step - loss: 1.5315 - accuracy: 0.4561 - val_loss: 1.6608 - val_accuracy: 0.4169\n",
            "Epoch 49/50\n",
            "472/472 [==============================] - 2s 4ms/step - loss: 1.5337 - accuracy: 0.4553 - val_loss: 1.5876 - val_accuracy: 0.4485\n",
            "Epoch 50/50\n",
            "472/472 [==============================] - 2s 4ms/step - loss: 1.5320 - accuracy: 0.4552 - val_loss: 1.6105 - val_accuracy: 0.4326\n"
          ]
        }
      ]
    },
    {
      "cell_type": "code",
      "source": [
        "#Plot training and validation accuracy and loss side by side\n",
        "import matplotlib.pyplot as plt\n",
        "\n",
        "acc = history.history['accuracy']\n",
        "val_acc = history.history['val_accuracy']\n",
        "loss = history.history['loss']\n",
        "val_loss = history.history['val_loss']\n",
        "\n",
        "epochs = range(len(acc))\n",
        "\n",
        "plt.plot(epochs, acc, 'bo', label='Training acc')\n",
        "plt.plot(epochs, val_acc, 'b', label='Validation acc')\n",
        "plt.title('Training and validation accuracy')\n",
        "plt.legend()\n",
        "\n",
        "plt.figure()\n",
        "\n",
        "plt.plot(epochs, loss, 'bo', label='Training loss')\n",
        "plt.plot(epochs, val_loss, 'b', label='Validation loss')\n",
        "plt.title('Training and validation loss')\n",
        "plt.legend()\n",
        "\n",
        "plt.show()"
      ],
      "metadata": {
        "colab": {
          "base_uri": "https://localhost:8080/",
          "height": 887
        },
        "id": "up6r9c95DsAT",
        "outputId": "435957d7-0419-4e87-8a4a-d8d45a02f905"
      },
      "execution_count": 96,
      "outputs": [
        {
          "output_type": "display_data",
          "data": {
            "text/plain": [
              "<Figure size 640x480 with 1 Axes>"
            ],
            "image/png": "[encoded data removed]"
          },
          "metadata": {}
        },
        {
          "output_type": "display_data",
          "data": {
            "text/plain": [
              "<Figure size 640x480 with 1 Axes>"
            ],
            "image/png": "[encoded data removed]"
          },
          "metadata": {}
        }
      ]
    },
    {
      "cell_type": "markdown",
      "source": [
        "Visualization seems to show less overfitting, lets check test accuracy again."
      ],
      "metadata": {
        "id": "s6qabgl3Dzb6"
      }
    },
    {
      "cell_type": "code",
      "source": [
        "test_loss, test_acc = network.evaluate(test_images, test_labels)"
      ],
      "metadata": {
        "colab": {
          "base_uri": "https://localhost:8080/"
        },
        "id": "I5XF5JwzBdZO",
        "outputId": "3efe4ece-190e-4f82-bdb1-c92713e43083"
      },
      "execution_count": 98,
      "outputs": [
        {
          "output_type": "stream",
          "name": "stdout",
          "text": [
            "313/313 [==============================] - 1s 2ms/step - loss: 1.5685 - accuracy: 0.4507\n"
          ]
        }
      ]
    },
    {
      "cell_type": "markdown",
      "source": [
        "###I received a training accuracy of 45.52 and test accuracy of 45.07. I was able to reduce overfitting through decreasing the number of hidden layers (complexity) in the model, adding a dropout layer, and using a batch size of 64 with 50 epochs in my final model."
      ],
      "metadata": {
        "id": "PJ3MBAybEDXy"
      }
    }
  ]
}